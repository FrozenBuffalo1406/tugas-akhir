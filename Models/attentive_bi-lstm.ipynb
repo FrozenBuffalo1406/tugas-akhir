{
 "cells": [
  {
   "cell_type": "code",
   "execution_count": 7,
   "id": "703a3592",
   "metadata": {},
   "outputs": [],
   "source": [
    "import numpy as np\n",
    "import tensorflow as tf\n",
    "import matplotlib.pyplot as plt\n",
    "from sklearn.model_selection import train_test_split\n",
    "from keras.utils import to_categorical\n",
    "from keras import layers, models, callbacks\n"
   ]
  },
  {
   "cell_type": "code",
   "execution_count": 8,
   "id": "b76aa3d7",
   "metadata": {},
   "outputs": [],
   "source": [
    "# Muat dataset\n",
    "X = np.load('all_beat_segments.npy')\n",
    "y = np.load('all_beat_labels_encoded.npy')"
   ]
  },
  {
   "cell_type": "code",
   "execution_count": 9,
   "id": "39c2f56f",
   "metadata": {},
   "outputs": [
    {
     "name": "stdout",
     "output_type": "stream",
     "text": [
      "X shape: (109459, 89)\n",
      "y shape: (109459,)\n"
     ]
    }
   ],
   "source": [
    "# Pastikan ukuran dataset\n",
    "print(\"X shape:\", X.shape)\n",
    "print(\"y shape:\", y.shape)"
   ]
  },
  {
   "cell_type": "code",
   "execution_count": 10,
   "id": "bba9e124",
   "metadata": {},
   "outputs": [],
   "source": [
    "# Split dataset: 80% train, 20% test\n",
    "X_train, X_test, y_train, y_test = train_test_split(X, y, test_size=0.2, random_state=42, stratify=y)\n"
   ]
  },
  {
   "cell_type": "code",
   "execution_count": 11,
   "id": "1e8d7f3b",
   "metadata": {},
   "outputs": [],
   "source": [
    "# Reshape untuk model Bi-LSTM (batch_size, time_steps, features)\n",
    "X_train = X_train.reshape(-1, X_train.shape[1], 1)\n",
    "X_test = X_test.reshape(-1, X_test.shape[1], 1)\n"
   ]
  },
  {
   "cell_type": "code",
   "execution_count": 12,
   "id": "c5715627",
   "metadata": {},
   "outputs": [],
   "source": [
    "# Encode label ke one-hot\n",
    "y_train_cat = to_categorical(y_train)\n",
    "y_test_cat = to_categorical(y_test)"
   ]
  },
  {
   "cell_type": "code",
   "execution_count": 13,
   "id": "9b512c9b",
   "metadata": {},
   "outputs": [],
   "source": [
    "# Definisi Attention Layer\n",
    "class AttentionLayer(layers.Layer):\n",
    "    def __init__(self, **kwargs):\n",
    "        super(AttentionLayer, self).__init__(**kwargs)\n",
    "\n",
    "    def build(self, input_shape):\n",
    "        self.W = self.add_weight(\n",
    "            name=\"att_weight\",\n",
    "            shape=(input_shape[-1], 1),\n",
    "            initializer='glorot_uniform',\n",
    "            trainable=True\n",
    "        )\n",
    "        self.b = self.add_weight(\n",
    "            name=\"att_bias\",\n",
    "            shape=(input_shape[1], 1),\n",
    "            initializer='zeros',\n",
    "            trainable=True\n",
    "        )\n",
    "        super(AttentionLayer, self).build(input_shape)\n",
    "\n",
    "    def call(self, x):\n",
    "        et = tf.matmul(x, self.W) + self.b  # Shape: (batch_size, time_steps, 1)\n",
    "        et = tf.squeeze(et, axis=-1)       # Shape: (batch_size, time_steps)\n",
    "        at = tf.nn.softmax(et)            # Softmax over time steps\n",
    "        at = tf.expand_dims(at, axis=-1)  # Shape: (batch_size, time_steps, 1)\n",
    "        output = x * at                    # Weighted input\n",
    "        output = tf.reduce_sum(output, axis=1)  # Shape: (batch_size, features)\n",
    "        return output\n",
    "\n",
    "    def get_config(self):\n",
    "        return super(AttentionLayer, self).get_config()\n"
   ]
  },
  {
   "cell_type": "code",
   "execution_count": 14,
   "id": "a0564462",
   "metadata": {},
   "outputs": [],
   "source": [
    "# Arsitektur Model\n",
    "def build_attentive_bilstm(input_shape, num_classes):\n",
    "    inputs = layers.Input(shape=input_shape)\n",
    "\n",
    "    # Bidirectional LSTM\n",
    "    x = layers.Bidirectional(layers.LSTM(64, return_sequences=True))(inputs)\n",
    "\n",
    "    # Attention Layer\n",
    "    attention = AttentionLayer()(x)\n",
    "\n",
    "    # Dense Layers\n",
    "    x = layers.Dense(64, activation='relu')(attention)\n",
    "    x = layers.Dropout(0.5)(x)\n",
    "    outputs = layers.Dense(num_classes, activation='softmax')(x)\n",
    "\n",
    "    model = models.Model(inputs=inputs, outputs=outputs)\n",
    "    model.compile(\n",
    "        optimizer='adam',\n",
    "        loss='categorical_crossentropy',\n",
    "        metrics=['accuracy']\n",
    "    )\n",
    "    return model\n",
    "\n"
   ]
  },
  {
   "cell_type": "code",
   "execution_count": 20,
   "id": "a255eed2",
   "metadata": {},
   "outputs": [
    {
     "name": "stdout",
     "output_type": "stream",
     "text": [
      "Model: \"model_2\"\n",
      "_________________________________________________________________\n",
      " Layer (type)                Output Shape              Param #   \n",
      "=================================================================\n",
      " input_3 (InputLayer)        [(None, 89, 1)]           0         \n",
      "                                                                 \n",
      " bidirectional_2 (Bidirectio  (None, 89, 128)          33792     \n",
      " nal)                                                            \n",
      "                                                                 \n",
      " attention_layer_2 (Attentio  (None, 128)              217       \n",
      " nLayer)                                                         \n",
      "                                                                 \n",
      " dense_4 (Dense)             (None, 64)                8256      \n",
      "                                                                 \n",
      " dropout_2 (Dropout)         (None, 64)                0         \n",
      "                                                                 \n",
      " dense_5 (Dense)             (None, 4)                 260       \n",
      "                                                                 \n",
      "=================================================================\n",
      "Total params: 42,525\n",
      "Trainable params: 42,525\n",
      "Non-trainable params: 0\n",
      "_________________________________________________________________\n"
     ]
    }
   ],
   "source": [
    "model = build_attentive_bilstm(input_shape=(X_train.shape[1], 1), num_classes=4)\n",
    "model.summary()"
   ]
  },
  {
   "cell_type": "code",
   "execution_count": 21,
   "id": "4f493b6c",
   "metadata": {},
   "outputs": [
    {
     "name": "stdout",
     "output_type": "stream",
     "text": [
      "Epoch 1/100\n",
      "1369/1369 [==============================] - 206s 146ms/step - loss: 0.3785 - accuracy: 0.8909 - val_loss: 0.2715 - val_accuracy: 0.9133\n",
      "Epoch 2/100\n",
      "1369/1369 [==============================] - 164s 120ms/step - loss: 0.2841 - accuracy: 0.9140 - val_loss: 0.2505 - val_accuracy: 0.9222\n",
      "Epoch 3/100\n",
      "1369/1369 [==============================] - 144s 105ms/step - loss: 0.2603 - accuracy: 0.9191 - val_loss: 0.2397 - val_accuracy: 0.9220\n",
      "Epoch 4/100\n",
      "1369/1369 [==============================] - 127s 93ms/step - loss: 0.2414 - accuracy: 0.9241 - val_loss: 0.2156 - val_accuracy: 0.9338\n",
      "Epoch 5/100\n",
      "1369/1369 [==============================] - 194s 142ms/step - loss: 0.2262 - accuracy: 0.9295 - val_loss: 0.2090 - val_accuracy: 0.9345\n",
      "Epoch 6/100\n",
      "1369/1369 [==============================] - 231s 169ms/step - loss: 0.2115 - accuracy: 0.9340 - val_loss: 0.2017 - val_accuracy: 0.9355\n",
      "Epoch 7/100\n",
      "1369/1369 [==============================] - 134s 98ms/step - loss: 0.2037 - accuracy: 0.9367 - val_loss: 0.1872 - val_accuracy: 0.9405\n",
      "Epoch 8/100\n",
      "1369/1369 [==============================] - 133s 97ms/step - loss: 0.1948 - accuracy: 0.9386 - val_loss: 0.1818 - val_accuracy: 0.9414\n",
      "Epoch 9/100\n",
      "1369/1369 [==============================] - 139s 101ms/step - loss: 0.1904 - accuracy: 0.9399 - val_loss: 0.1975 - val_accuracy: 0.9360\n",
      "Epoch 10/100\n",
      "1369/1369 [==============================] - 177s 129ms/step - loss: 0.1918 - accuracy: 0.9392 - val_loss: 0.1831 - val_accuracy: 0.9387\n",
      "Epoch 11/100\n",
      "1369/1369 [==============================] - 184s 135ms/step - loss: 0.1808 - accuracy: 0.9426 - val_loss: 0.1758 - val_accuracy: 0.9424\n",
      "Epoch 12/100\n",
      "1369/1369 [==============================] - 173s 127ms/step - loss: 0.1767 - accuracy: 0.9428 - val_loss: 0.1714 - val_accuracy: 0.9448\n",
      "Epoch 13/100\n",
      "1369/1369 [==============================] - 137s 100ms/step - loss: 0.1713 - accuracy: 0.9446 - val_loss: 0.1686 - val_accuracy: 0.9444\n",
      "Epoch 14/100\n",
      "1369/1369 [==============================] - 128s 94ms/step - loss: 0.1696 - accuracy: 0.9447 - val_loss: 0.1741 - val_accuracy: 0.9431\n",
      "Epoch 15/100\n",
      "1369/1369 [==============================] - 126s 92ms/step - loss: 0.1673 - accuracy: 0.9457 - val_loss: 0.1682 - val_accuracy: 0.9450\n",
      "Epoch 16/100\n",
      "1369/1369 [==============================] - 127s 92ms/step - loss: 0.1662 - accuracy: 0.9451 - val_loss: 0.1727 - val_accuracy: 0.9437\n",
      "Epoch 17/100\n",
      "1369/1369 [==============================] - 131s 95ms/step - loss: 0.1634 - accuracy: 0.9466 - val_loss: 0.1655 - val_accuracy: 0.9461\n",
      "Epoch 18/100\n",
      "1369/1369 [==============================] - 128s 94ms/step - loss: 0.1600 - accuracy: 0.9476 - val_loss: 0.1700 - val_accuracy: 0.9434\n",
      "Epoch 19/100\n",
      "1369/1369 [==============================] - 126s 92ms/step - loss: 0.1588 - accuracy: 0.9477 - val_loss: 0.1619 - val_accuracy: 0.9464\n",
      "Epoch 20/100\n",
      "1369/1369 [==============================] - 126s 92ms/step - loss: 0.1570 - accuracy: 0.9481 - val_loss: 0.1577 - val_accuracy: 0.9482\n",
      "Epoch 21/100\n",
      "1369/1369 [==============================] - 129s 94ms/step - loss: 0.1554 - accuracy: 0.9489 - val_loss: 0.1619 - val_accuracy: 0.9483\n",
      "Epoch 22/100\n",
      "1369/1369 [==============================] - 167s 122ms/step - loss: 0.1530 - accuracy: 0.9496 - val_loss: 0.1611 - val_accuracy: 0.9480\n",
      "Epoch 23/100\n",
      "1369/1369 [==============================] - 208s 152ms/step - loss: 0.1511 - accuracy: 0.9502 - val_loss: 0.1600 - val_accuracy: 0.9486\n",
      "Epoch 24/100\n",
      "1369/1369 [==============================] - 159s 116ms/step - loss: 0.1492 - accuracy: 0.9504 - val_loss: 0.1575 - val_accuracy: 0.9503\n",
      "Epoch 25/100\n",
      "1369/1369 [==============================] - 147s 107ms/step - loss: 0.1471 - accuracy: 0.9510 - val_loss: 0.1541 - val_accuracy: 0.9507\n",
      "Epoch 26/100\n",
      "1369/1369 [==============================] - 131s 96ms/step - loss: 0.1469 - accuracy: 0.9511 - val_loss: 0.1591 - val_accuracy: 0.9469\n",
      "Epoch 27/100\n",
      "1369/1369 [==============================] - 165s 121ms/step - loss: 0.1455 - accuracy: 0.9518 - val_loss: 0.1582 - val_accuracy: 0.9478\n",
      "Epoch 28/100\n",
      "1369/1369 [==============================] - 162s 118ms/step - loss: 0.1443 - accuracy: 0.9523 - val_loss: 0.1572 - val_accuracy: 0.9490\n",
      "Epoch 29/100\n",
      "1369/1369 [==============================] - 130s 95ms/step - loss: 0.1430 - accuracy: 0.9525 - val_loss: 0.1505 - val_accuracy: 0.9509\n",
      "Epoch 30/100\n",
      "1369/1369 [==============================] - 130s 95ms/step - loss: 0.1407 - accuracy: 0.9525 - val_loss: 0.1535 - val_accuracy: 0.9510\n",
      "Epoch 31/100\n",
      "1369/1369 [==============================] - 149s 109ms/step - loss: 0.1400 - accuracy: 0.9529 - val_loss: 0.1561 - val_accuracy: 0.9510\n",
      "Epoch 32/100\n",
      "1369/1369 [==============================] - 298s 218ms/step - loss: 0.1395 - accuracy: 0.9532 - val_loss: 0.1510 - val_accuracy: 0.9510\n",
      "Epoch 33/100\n",
      "1369/1369 [==============================] - 257s 188ms/step - loss: 0.1406 - accuracy: 0.9536 - val_loss: 0.1597 - val_accuracy: 0.9491\n",
      "Epoch 34/100\n",
      "1369/1369 [==============================] - 163s 119ms/step - loss: 0.1356 - accuracy: 0.9541 - val_loss: 0.1534 - val_accuracy: 0.9515\n"
     ]
    }
   ],
   "source": [
    "# Callbacks\n",
    "checkpoint = callbacks.ModelCheckpoint(\n",
    "    'best_model.h5', \n",
    "    monitor='val_accuracy', \n",
    "    save_best_only=True\n",
    ")\n",
    "early_stop = callbacks.EarlyStopping(patience=5, restore_best_weights=True)\n",
    "\n",
    "# Training\n",
    "history = model.fit(\n",
    "    X_train, y_train_cat,\n",
    "    validation_data=(X_test, y_test_cat),\n",
    "    epochs=100,\n",
    "    batch_size=64,\n",
    "    callbacks=[checkpoint, early_stop]\n",
    ")\n"
   ]
  },
  {
   "cell_type": "code",
   "execution_count": 22,
   "id": "98c3385a",
   "metadata": {},
   "outputs": [
    {
     "name": "stdout",
     "output_type": "stream",
     "text": [
      "685/685 [==============================] - 14s 21ms/step - loss: 0.1505 - accuracy: 0.9509\n",
      "Test Accuracy: 0.9509\n"
     ]
    },
    {
     "data": {
      "text/plain": [
       "<Figure size 1200x400 with 0 Axes>"
      ]
     },
     "execution_count": 22,
     "metadata": {},
     "output_type": "execute_result"
    },
    {
     "data": {
      "text/plain": [
       "<Figure size 1200x400 with 0 Axes>"
      ]
     },
     "metadata": {},
     "output_type": "display_data"
    }
   ],
   "source": [
    "# Evaluasi\n",
    "loss, acc = model.evaluate(X_test, y_test_cat)\n",
    "print(f\"Test Accuracy: {acc:.4f}\")\n",
    "\n",
    "plt.figure(figsize=(12, 4))"
   ]
  },
  {
   "cell_type": "code",
   "execution_count": 23,
   "id": "943e47bc",
   "metadata": {},
   "outputs": [
    {
     "name": "stdout",
     "output_type": "stream",
     "text": [
      "685/685 [==============================] - 14s 19ms/step\n"
     ]
    }
   ],
   "source": [
    "# Prediksi kelas\n",
    "y_pred = model.predict(X_test)\n",
    "y_pred_classes = np.argmax(y_pred, axis=1)\n",
    "y_test_classes = np.argmax(y_test_cat, axis=1)  # Jika y_test_cat adalah one-hot"
   ]
  },
  {
   "cell_type": "code",
   "execution_count": 24,
   "id": "07c18b26",
   "metadata": {},
   "outputs": [
    {
     "data": {
      "text/plain": [
       "<matplotlib.legend.Legend at 0x1a27b615af0>"
      ]
     },
     "execution_count": 24,
     "metadata": {},
     "output_type": "execute_result"
    },
    {
     "data": {
      "image/png": "[encoded data removed]",
      "text/plain": [
       "<Figure size 640x480 with 1 Axes>"
      ]
     },
     "metadata": {},
     "output_type": "display_data"
    }
   ],
   "source": [
    "plt.subplot(1,2,1)\n",
    "plt.plot(history.history['accuracy'], label='Training Accuracy')\n",
    "plt.plot(history.history['val_accuracy'], label='Validation Accuracy')\n",
    "plt.xlabel('Epoch')\n",
    "plt.ylabel('Accuracy')\n",
    "plt.legend()"
   ]
  },
  {
   "cell_type": "code",
   "execution_count": 25,
   "id": "057bb1f1",
   "metadata": {},
   "outputs": [
    {
     "data": {
      "text/plain": [
       "<matplotlib.legend.Legend at 0x1a27280e8e0>"
      ]
     },
     "execution_count": 25,
     "metadata": {},
     "output_type": "execute_result"
    },
    {
     "data": {
      "image/png": "[encoded data removed]",
      "text/plain": [
       "<Figure size 640x480 with 1 Axes>"
      ]
     },
     "metadata": {},
     "output_type": "display_data"
    }
   ],
   "source": [
    "plt.subplot(1, 2, 2)\n",
    "plt.plot(history.history['loss'], label='Train Loss')\n",
    "plt.plot(history.history['val_loss'], label='Validation Loss')\n",
    "plt.title('Model Loss')\n",
    "plt.ylabel('Loss')\n",
    "plt.xlabel('Epoch')\n",
    "plt.legend()"
   ]
  },
  {
   "cell_type": "code",
   "execution_count": 26,
   "id": "a8edfefd",
   "metadata": {},
   "outputs": [
    {
     "data": {
      "text/plain": [
       "<Figure size 640x480 with 0 Axes>"
      ]
     },
     "metadata": {},
     "output_type": "display_data"
    }
   ],
   "source": [
    "plt.tight_layout()\n",
    "plt.show()"
   ]
  },
  {
   "cell_type": "code",
   "execution_count": 27,
   "id": "3a2d178d",
   "metadata": {},
   "outputs": [
    {
     "name": "stdout",
     "output_type": "stream",
     "text": [
      "Model disimpan sebagai 'attentive_bilstm_arrhythmia2.h5'\n"
     ]
    }
   ],
   "source": [
    "# Simpan model\n",
    "model.save('attentive_bilstm_arrhythmia2.h5')\n",
    "print(\"Model disimpan sebagai 'attentive_bilstm_arrhythmia2.h5'\")"
   ]
  }
 ],
 "metadata": {
  "kernelspec": {
   "display_name": "tugasAkhir",
   "language": "python",
   "name": "python3"
  },
  "language_info": {
   "codemirror_mode": {
    "name": "ipython",
    "version": 3
   },
   "file_extension": ".py",
   "mimetype": "text/x-python",
   "name": "python",
   "nbconvert_exporter": "python",
   "pygments_lexer": "ipython3",
   "version": "3.8.18"
  }
 },
 "nbformat": 4,
 "nbformat_minor": 5
}
