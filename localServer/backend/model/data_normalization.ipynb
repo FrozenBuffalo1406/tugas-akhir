{
 "cells": [
  {
   "cell_type": "code",
   "execution_count": 6,
   "id": "6260263c",
   "metadata": {},
   "outputs": [],
   "source": [
    "import wfdb\n",
    "import numpy as np\n",
    "import pandas as pd\n",
    "import os\n",
    "from tqdm.notebook import tqdm\n",
    "import matplotlib.pyplot as plt\n",
    "from pathlib import Path"
   ]
  },
  {
   "cell_type": "code",
   "execution_count": null,
   "id": "e1854a54",
   "metadata": {},
   "outputs": [],
   "source": [
    "afdb_dir = Path('./afdb')\n",
    "mitdb_dir = Path('./mitdb')\n",
    "nstdb_dir = Path('./nstdb')\n"
   ]
  },
  {
   "cell_type": "code",
   "execution_count": 11,
   "id": "b46639d6",
   "metadata": {},
   "outputs": [
    {
     "name": "stdout",
     "output_type": "stream",
     "text": [
      "\n",
      "Mengecek/Mendownload MIT-BIH Atrial Fibrillation Database (afdb)...\n",
      "Generating record list for: 00735\n",
      "Generating record list for: 03665\n",
      "Generating record list for: 04015\n",
      "Generating record list for: 04043\n",
      "Generating record list for: 04048\n",
      "Generating record list for: 04126\n",
      "Generating record list for: 04746\n",
      "Generating record list for: 04908\n",
      "Generating record list for: 04936\n",
      "Generating record list for: 05091\n",
      "Generating record list for: 05121\n",
      "Generating record list for: 05261\n",
      "Generating record list for: 06426\n",
      "Generating record list for: 06453\n",
      "Generating record list for: 06995\n",
      "Generating record list for: 07162\n",
      "Generating record list for: 07859\n",
      "Generating record list for: 07879\n",
      "Generating record list for: 07910\n",
      "Generating record list for: 08215\n",
      "Generating record list for: 08219\n",
      "Generating record list for: 08378\n",
      "Generating record list for: 08405\n",
      "Generating record list for: 08434\n",
      "Generating record list for: 08455\n",
      "Generating list of all files for: 00735\n",
      "Generating list of all files for: 03665\n",
      "Generating list of all files for: 04015\n",
      "Generating list of all files for: 04043\n",
      "Generating list of all files for: 04048\n",
      "Generating list of all files for: 04126\n",
      "Generating list of all files for: 04746\n",
      "Generating list of all files for: 04908\n",
      "Generating list of all files for: 04936\n",
      "Generating list of all files for: 05091\n",
      "Generating list of all files for: 05121\n",
      "Generating list of all files for: 05261\n",
      "Generating list of all files for: 06426\n",
      "Generating list of all files for: 06453\n",
      "Generating list of all files for: 06995\n",
      "Generating list of all files for: 07162\n",
      "Generating list of all files for: 07859\n",
      "Generating list of all files for: 07879\n",
      "Generating list of all files for: 07910\n",
      "Generating list of all files for: 08215\n",
      "Generating list of all files for: 08219\n",
      "Generating list of all files for: 08378\n",
      "Generating list of all files for: 08405\n",
      "Generating list of all files for: 08434\n",
      "Generating list of all files for: 08455\n",
      "Downloading files...\n",
      "Finished downloading files\n",
      "-> Selesai.\n"
     ]
    }
   ],
   "source": [
    "print(\"\\nMengecek/Mendownload MIT-BIH Atrial Fibrillation Database (afdb)...\")\n",
    "wfdb.dl_database('afdb', dl_dir=afdb_dir)\n",
    "print(\"-> Selesai.\")"
   ]
  },
  {
   "cell_type": "code",
   "execution_count": null,
   "id": "2d2f661b",
   "metadata": {},
   "outputs": [],
   "source": [
    "print(\"Mengecek/Mendownload MIT-BIH Arrhythmia Database (mitdb)...\")\n",
    "wfdb.dl_database('mitdb', dl_dir=mitdb_dir)\n",
    "print(\"-> Selesai.\")"
   ]
  },
  {
   "cell_type": "code",
   "execution_count": null,
   "id": "dfade983",
   "metadata": {},
   "outputs": [],
   "source": [
    "print(\"\\nMengecek/Mendownload Noise Stress Test Database (nstdb)...\")\n",
    "wfdb.dl_database('nstdb', dl_dir=nstdb_dir)\n",
    "print(\"-> Selesai.\")"
   ]
  },
  {
   "cell_type": "code",
   "execution_count": null,
   "id": "dc421bbf",
   "metadata": {},
   "outputs": [],
   "source": [
    "def load_and_normalize_database(db_dir:Path):\n",
    "    \"\"\"\n",
    "    Fungsi ini memuat semua record dari sebuah direktori database,\n",
    "    mengambil sinyal channel pertama, dan menormalisasinya ke rentang 0-1.\n",
    "    \n",
    "    Args:\n",
    "        db_dir (str): Path ke folder database (misal: 'mitdb_data').\n",
    "        \n",
    "    Returns:\n",
    "        list: Sebuah list berisi sinyal-sinyal EKG yang sudah dinormalisasi.\n",
    "    \"\"\"\n",
    "    normalized_signals = []\n",
    "    record_list = [f.split('.')[0] for f in os.listdir(db_dir) if f.endswith('.dat')]\n",
    "    \n",
    "    # Inisialisasi scaler untuk menormalkan data ke rentang [0, 1]\n",
    "    scaler = MinMaxScaler(feature_range=(0, 1))\n",
    "    \n",
    "    print(f\"\\nMemproses database di folder: '{db_dir}'\")\n",
    "    for rec_name in tqdm(record_list, desc=f\"Normalisasi {db_dir}\"):\n",
    "        record_path = os.path.join(db_dir, rec_name)\n",
    "        record = wfdb.rdrecord(record_path)\n",
    "        \n",
    "        # Ambil sinyal dari channel pertama (lead utama)\n",
    "        signal_1d = record.p_signal[:, 0]\n",
    "        \n",
    "        # Scaler sklearn butuh input 2D, jadi kita reshape sinyal 1D kita\n",
    "        signal_reshaped = signal_1d.reshape(-1, 1)\n",
    "        \n",
    "        # Lakukan normalisasi\n",
    "        signal_normalized_reshaped = scaler.fit_transform(signal_reshaped)\n",
    "        \n",
    "        # Kembalikan lagi ke bentuk 1D (flatten)\n",
    "        signal_normalized = signal_normalized_reshaped.flatten()\n",
    "        \n",
    "        normalized_signals.append(signal_normalized)\n",
    "        \n",
    "    return normalized_signals\n",
    "\n",
    "print(\"✅ Fungsi 'load_and_normalize_database' siap digunakan.\")\n"
   ]
  },
  {
   "cell_type": "code",
   "execution_count": null,
   "id": "8d240b6c",
   "metadata": {},
   "outputs": [],
   "source": [
    "mitdb_normalized = load_and_normalize_database(mitdb_dir)\n",
    "afdb_normalized = load_and_normalize_database(afdb_dir)\n",
    "nstdb_normalized = load_and_normalize_database(nstdb_dir)"
   ]
  },
  {
   "cell_type": "code",
   "execution_count": null,
   "id": "e3dfed0d",
   "metadata": {},
   "outputs": [],
   "source": [
    "print(f\"📄 Jumlah sinyal dari mitdb: {len(mitdb_normalized)}\")\n",
    "print(f\"📄 Jumlah sinyal dari afdb: {len(afdb_normalized)}\")\n",
    "print(f\"📄 Jumlah sinyal dari nstdb: {len(nstdb_normalized)}\")"
   ]
  },
  {
   "cell_type": "code",
   "execution_count": null,
   "id": "05ccd065",
   "metadata": {},
   "outputs": [],
   "source": [
    "# 1. Muat satu sinyal asli sebagai pembanding\n",
    "record_asli = wfdb.rdrecord('mitdb_data/100')\n",
    "sinyal_asli = record_asli.p_signal[:, 0]\n",
    "\n",
    "# 2. Ambil sinyal yang sudah dinormalisasi dari list kita\n",
    "#    (record '100' adalah salah satu record di mitdb_data)\n",
    "#    Kita perlu cari indeksnya dulu\n",
    "record_list_mitdb = [f.split('.')[0] for f in os.listdir('mitdb_data') if f.endswith('.dat')]\n",
    "idx_100 = record_list_mitdb.index('100')\n",
    "sinyal_ternormalisasi = mitdb_normalized[idx_100]\n",
    "\n",
    "# 3. Plot keduanya\n",
    "plt.figure(figsize=(15, 8))\n",
    "\n",
    "# Plot sinyal asli\n",
    "plt.subplot(2, 1, 1)\n",
    "plt.plot(sinyal_asli[:1000], color='blue')\n",
    "plt.title(\"Sinyal Asli (Sebelum Normalisasi)\", fontsize=14)\n",
    "plt.ylabel(\"Amplitudo (mV)\")\n",
    "plt.grid(True)\n",
    "print(f\"Rentang nilai sinyal asli: min={np.min(sinyal_asli):.2f}, max={np.max(sinyal_asli):.2f}\")\n",
    "\n",
    "\n",
    "# Plot sinyal ternormalisasi\n",
    "plt.subplot(2, 1, 2)\n",
    "plt.plot(sinyal_ternormalisasi[:1000], color='green')\n",
    "plt.title(\"Sinyal Setelah Normalisasi\", fontsize=14)\n",
    "plt.xlabel(\"Sampel\")\n",
    "plt.ylabel(\"Amplitudo Ternormalisasi\")\n",
    "plt.grid(True)\n",
    "print(f\"Rentang nilai sinyal ternormalisasi: min={np.min(sinyal_ternormalisasi):.2f}, max={np.max(sinyal_ternormalisasi):.2f}\")\n",
    "\n",
    "\n",
    "plt.tight_layout()\n",
    "plt.show()"
   ]
  }
 ],
 "metadata": {
  "kernelspec": {
   "display_name": "tugasAkhir",
   "language": "python",
   "name": "python3"
  },
  "language_info": {
   "codemirror_mode": {
    "name": "ipython",
    "version": 3
   },
   "file_extension": ".py",
   "mimetype": "text/x-python",
   "name": "python",
   "nbconvert_exporter": "python",
   "pygments_lexer": "ipython3",
   "version": "3.8.18"
  }
 },
 "nbformat": 4,
 "nbformat_minor": 5
}
